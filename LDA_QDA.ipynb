{
 "cells": [
  {
   "cell_type": "markdown",
   "id": "460115d1",
   "metadata": {},
   "source": [
    "## Assignment 3 (Amit Singh Bisht) student # 100881017"
   ]
  },
  {
   "cell_type": "code",
   "execution_count": 1,
   "id": "e0042491",
   "metadata": {},
   "outputs": [],
   "source": [
    "#Load Libraries\n",
    "import numpy as np\n",
    "import pandas as pd\n",
    "import matplotlib.pyplot as plt\n",
    "%matplotlib inline\n",
    "import seaborn as sns"
   ]
  },
  {
   "cell_type": "code",
   "execution_count": 2,
   "id": "115f91ba",
   "metadata": {
    "scrolled": false
   },
   "outputs": [
    {
     "data": {
      "text/html": [
       "<div>\n",
       "<style scoped>\n",
       "    .dataframe tbody tr th:only-of-type {\n",
       "        vertical-align: middle;\n",
       "    }\n",
       "\n",
       "    .dataframe tbody tr th {\n",
       "        vertical-align: top;\n",
       "    }\n",
       "\n",
       "    .dataframe thead th {\n",
       "        text-align: right;\n",
       "    }\n",
       "</style>\n",
       "<table border=\"1\" class=\"dataframe\">\n",
       "  <thead>\n",
       "    <tr style=\"text-align: right;\">\n",
       "      <th></th>\n",
       "      <th>Area</th>\n",
       "      <th>MajorAxisLength</th>\n",
       "      <th>MinorAxisLength</th>\n",
       "      <th>Eccentricity</th>\n",
       "      <th>ConvexArea</th>\n",
       "      <th>Extent</th>\n",
       "      <th>Perimeter</th>\n",
       "      <th>Class</th>\n",
       "    </tr>\n",
       "  </thead>\n",
       "  <tbody>\n",
       "    <tr>\n",
       "      <th>0</th>\n",
       "      <td>87524</td>\n",
       "      <td>442.246011</td>\n",
       "      <td>253.291155</td>\n",
       "      <td>0.819738</td>\n",
       "      <td>90546</td>\n",
       "      <td>0.758651</td>\n",
       "      <td>1184.040</td>\n",
       "      <td>Kecimen</td>\n",
       "    </tr>\n",
       "    <tr>\n",
       "      <th>1</th>\n",
       "      <td>75166</td>\n",
       "      <td>406.690687</td>\n",
       "      <td>243.032436</td>\n",
       "      <td>0.801805</td>\n",
       "      <td>78789</td>\n",
       "      <td>0.684130</td>\n",
       "      <td>1121.786</td>\n",
       "      <td>Kecimen</td>\n",
       "    </tr>\n",
       "    <tr>\n",
       "      <th>2</th>\n",
       "      <td>90856</td>\n",
       "      <td>442.267048</td>\n",
       "      <td>266.328318</td>\n",
       "      <td>0.798354</td>\n",
       "      <td>93717</td>\n",
       "      <td>0.637613</td>\n",
       "      <td>1208.575</td>\n",
       "      <td>Kecimen</td>\n",
       "    </tr>\n",
       "    <tr>\n",
       "      <th>3</th>\n",
       "      <td>45928</td>\n",
       "      <td>286.540559</td>\n",
       "      <td>208.760042</td>\n",
       "      <td>0.684989</td>\n",
       "      <td>47336</td>\n",
       "      <td>0.699599</td>\n",
       "      <td>844.162</td>\n",
       "      <td>Kecimen</td>\n",
       "    </tr>\n",
       "    <tr>\n",
       "      <th>4</th>\n",
       "      <td>79408</td>\n",
       "      <td>352.190770</td>\n",
       "      <td>290.827533</td>\n",
       "      <td>0.564011</td>\n",
       "      <td>81463</td>\n",
       "      <td>0.792772</td>\n",
       "      <td>1073.251</td>\n",
       "      <td>Kecimen</td>\n",
       "    </tr>\n",
       "  </tbody>\n",
       "</table>\n",
       "</div>"
      ],
      "text/plain": [
       "    Area  MajorAxisLength  MinorAxisLength  Eccentricity  ConvexArea  \\\n",
       "0  87524       442.246011       253.291155      0.819738       90546   \n",
       "1  75166       406.690687       243.032436      0.801805       78789   \n",
       "2  90856       442.267048       266.328318      0.798354       93717   \n",
       "3  45928       286.540559       208.760042      0.684989       47336   \n",
       "4  79408       352.190770       290.827533      0.564011       81463   \n",
       "\n",
       "     Extent  Perimeter    Class  \n",
       "0  0.758651   1184.040  Kecimen  \n",
       "1  0.684130   1121.786  Kecimen  \n",
       "2  0.637613   1208.575  Kecimen  \n",
       "3  0.699599    844.162  Kecimen  \n",
       "4  0.792772   1073.251  Kecimen  "
      ]
     },
     "execution_count": 2,
     "metadata": {},
     "output_type": "execute_result"
    }
   ],
   "source": [
    "#Load Dataset\n",
    "dataset=pd.read_csv('Raisin_Dataset.csv')\n",
    "dataset.head()"
   ]
  },
  {
   "cell_type": "code",
   "execution_count": 3,
   "id": "93f593ef",
   "metadata": {},
   "outputs": [
    {
     "data": {
      "text/plain": [
       "Kecimen    450\n",
       "Besni      450\n",
       "Name: Class, dtype: int64"
      ]
     },
     "execution_count": 3,
     "metadata": {},
     "output_type": "execute_result"
    }
   ],
   "source": [
    "count = dataset['Class'].value_counts()\n",
    "count"
   ]
  },
  {
   "cell_type": "code",
   "execution_count": 4,
   "id": "c9bd7944",
   "metadata": {},
   "outputs": [
    {
     "data": {
      "text/plain": [
       "array(['Kecimen', 'Besni'], dtype=object)"
      ]
     },
     "execution_count": 4,
     "metadata": {},
     "output_type": "execute_result"
    }
   ],
   "source": [
    "unique_values = dataset['Class'].unique()\n",
    "unique_values"
   ]
  },
  {
   "cell_type": "code",
   "execution_count": 5,
   "id": "79dee178",
   "metadata": {},
   "outputs": [
    {
     "data": {
      "application/vnd.jupyter.widget-view+json": {
       "model_id": "90343b8968cb453185a6ec1fee532575",
       "version_major": 2,
       "version_minor": 0
      },
      "text/plain": [
       "Summarize dataset:   0%|          | 0/5 [00:00<?, ?it/s]"
      ]
     },
     "metadata": {},
     "output_type": "display_data"
    },
    {
     "data": {
      "application/vnd.jupyter.widget-view+json": {
       "model_id": "2e2069b1e78f47a98d4aa96b408001cc",
       "version_major": 2,
       "version_minor": 0
      },
      "text/plain": [
       "Generate report structure:   0%|          | 0/1 [00:00<?, ?it/s]"
      ]
     },
     "metadata": {},
     "output_type": "display_data"
    },
    {
     "data": {
      "application/vnd.jupyter.widget-view+json": {
       "model_id": "caeb38fc00624847ab14d2fc276eff0a",
       "version_major": 2,
       "version_minor": 0
      },
      "text/plain": [
       "Render HTML:   0%|          | 0/1 [00:00<?, ?it/s]"
      ]
     },
     "metadata": {},
     "output_type": "display_data"
    },
    {
     "data": {
      "application/vnd.jupyter.widget-view+json": {
       "model_id": "d8eadf9d9c9c43458911e9b932980f36",
       "version_major": 2,
       "version_minor": 0
      },
      "text/plain": [
       "Export report to file:   0%|          | 0/1 [00:00<?, ?it/s]"
      ]
     },
     "metadata": {},
     "output_type": "display_data"
    },
    {
     "data": {
      "text/html": [
       "\n",
       "        <iframe\n",
       "            width=\"900\"\n",
       "            height=\"350\"\n",
       "            src=\"Raisin_dataset_report-lbfgs.html\"\n",
       "            frameborder=\"0\"\n",
       "            allowfullscreen\n",
       "            \n",
       "        ></iframe>\n",
       "        "
      ],
      "text/plain": [
       "<IPython.lib.display.IFrame at 0x1e14cd59ca0>"
      ]
     },
     "metadata": {},
     "output_type": "display_data"
    }
   ],
   "source": [
    "#Create Profile Report\n",
    " \n",
    "#Importing package\n",
    "import pandas_profiling as pp\n",
    "from IPython.display import IFrame\n",
    " \n",
    "# Profile Report\n",
    "Dataset_Report = pp.ProfileReport(dataset)\n",
    "Dataset_Report.to_file('Raisin_dataset_report-lbfgs.html')\n",
    "display(IFrame('Raisin_dataset_report-lbfgs.html', width=900, height=350))"
   ]
  },
  {
   "cell_type": "code",
   "execution_count": 6,
   "id": "dcff8fb7",
   "metadata": {},
   "outputs": [
    {
     "name": "stdout",
     "output_type": "stream",
     "text": [
      "Area\n",
      "Statistics=0.000, p=1.000\n",
      "Covariance the Same (fail to reject H0)\n",
      "\n",
      "\n",
      "MajorAxisLength\n",
      "Statistics=0.000, p=1.000\n",
      "Covariance the Same (fail to reject H0)\n",
      "\n",
      "\n",
      "MinorAxisLength\n",
      "Statistics=0.000, p=1.000\n",
      "Covariance the Same (fail to reject H0)\n",
      "\n",
      "\n",
      "Eccentricity\n",
      "Statistics=0.000, p=1.000\n",
      "Covariance the Same (fail to reject H0)\n",
      "\n",
      "\n",
      "ConvexArea\n",
      "Statistics=0.000, p=1.000\n",
      "Covariance the Same (fail to reject H0)\n",
      "\n",
      "\n",
      "Extent\n",
      "Statistics=0.000, p=1.000\n",
      "Covariance the Same (fail to reject H0)\n",
      "\n",
      "\n",
      "Perimeter\n",
      "Statistics=0.000, p=1.000\n",
      "Covariance the Same (fail to reject H0)\n",
      "\n",
      "\n"
     ]
    }
   ],
   "source": [
    "#Covariance test - Levene Test\n",
    "\n",
    "#   p <= alpha(0.05): reject H0, not the same covariance.\n",
    "#   p > alpha(0.05): fail to reject H0, same covariance.\n",
    "\n",
    "import scipy.stats as stats\n",
    "names=dataset.get('Class')\n",
    "\n",
    "cnt=1\n",
    "for col in dataset.columns:\n",
    "    if (col=='Class'):\n",
    "        continue\n",
    "        \n",
    "    stat, p = stats.levene(dataset[col][dataset['Class'] == names[0]], \n",
    "               dataset[col][dataset['Class'] == names[1]])\n",
    "\n",
    "    print(col)\n",
    "    print('Statistics=%.3f, p=%.3f' % (stat, p))\n",
    "    # interpret\n",
    "    alpha = 0.05\n",
    "    if p > alpha:\n",
    "        print('Covariance the Same (fail to reject H0)')\n",
    "        print('\\n')\n",
    "    else:\n",
    "        print('Covariance different(reject H0)')\n",
    "        print('\\n')\n",
    "    cnt +=1    "
   ]
  },
  {
   "cell_type": "code",
   "execution_count": 7,
   "id": "8dceef77",
   "metadata": {},
   "outputs": [
    {
     "name": "stdout",
     "output_type": "stream",
     "text": [
      "Area\n",
      "Statistics=0.906, p=0.000\n",
      "Sample does not look Gaussian (reject H0)\n",
      "\n",
      "\n",
      "MajorAxisLength\n",
      "Statistics=0.942, p=0.000\n",
      "Sample does not look Gaussian (reject H0)\n",
      "\n",
      "\n",
      "MinorAxisLength\n",
      "Statistics=0.965, p=0.000\n",
      "Sample does not look Gaussian (reject H0)\n",
      "\n",
      "\n",
      "Eccentricity\n",
      "Statistics=0.913, p=0.000\n",
      "Sample does not look Gaussian (reject H0)\n",
      "\n",
      "\n",
      "ConvexArea\n",
      "Statistics=0.902, p=0.000\n",
      "Sample does not look Gaussian (reject H0)\n",
      "\n",
      "\n",
      "Extent\n",
      "Statistics=0.944, p=0.000\n",
      "Sample does not look Gaussian (reject H0)\n",
      "\n",
      "\n",
      "Perimeter\n",
      "Statistics=0.945, p=0.000\n",
      "Sample does not look Gaussian (reject H0)\n",
      "\n",
      "\n"
     ]
    }
   ],
   "source": [
    "#Normality test - Shapiro-Wilk Test\n",
    "# p <= alpha(0.05): reject H0, not normal.\n",
    "# p > alpha(0.05): fail to reject H0, normal.\n",
    "\n",
    "from scipy.stats import shapiro\n",
    "\n",
    "cnt=1\n",
    "for col in dataset.columns:\n",
    "    if (col=='Class'):\n",
    "        continue\n",
    "        \n",
    "    stat, p = shapiro(dataset[col])\n",
    "\n",
    "    print(col)\n",
    "    print('Statistics=%.3f, p=%.3f' % (stat, p))\n",
    "    # interpret\n",
    "    alpha = 0.05\n",
    "    if p > alpha:\n",
    "        print('Sample looks Gaussian (fail to reject H0)')\n",
    "        print('\\n')\n",
    "    else:\n",
    "        print('Sample does not look Gaussian (reject H0)')\n",
    "        print('\\n')\n",
    "    cnt +=1    "
   ]
  },
  {
   "cell_type": "code",
   "execution_count": 8,
   "id": "5c4ec6e1",
   "metadata": {},
   "outputs": [],
   "source": [
    "#Create x and y variables\n",
    "x = dataset.drop('Class', axis=1).to_numpy()\n",
    "Y = dataset['Class'].to_numpy()\n",
    "\n",
    "#Create Train and Test Dataset\n",
    "from sklearn.model_selection import train_test_split\n",
    "x_train,x_test,y_train,y_test = train_test_split(x,Y,test_size = 0.2,stratify=Y,random_state = 100)\n",
    "\n",
    "#Fix the imbalanced Classes\n",
    "from imblearn.over_sampling import SMOTE\n",
    "smt=SMOTE(random_state=100)\n",
    "x_train_smt,y_train_smt = smt.fit_resample(x_train,y_train)\n",
    "\n",
    "#Scale the Data\n",
    "from sklearn.preprocessing import StandardScaler\n",
    "sc = StandardScaler()\n",
    "x_train2 = sc.fit_transform(x_train_smt)\n",
    "x_test2 = sc.transform(x_test)\n",
    "\n",
    "#Models\n",
    "from sklearn.discriminant_analysis import LinearDiscriminantAnalysis, QuadraticDiscriminantAnalysis\n",
    "from sklearn.linear_model import LogisticRegression"
   ]
  },
  {
   "cell_type": "code",
   "execution_count": 9,
   "id": "9f7374fd",
   "metadata": {},
   "outputs": [
    {
     "name": "stdout",
     "output_type": "stream",
     "text": [
      "Train Data - Class Split\n",
      "Kecimen - 360\n",
      "Besni - 360\n"
     ]
    }
   ],
   "source": [
    "#Class Balance - Test Data\n",
    "print('Train Data - Class Split')\n",
    "num_zeros = (y_train_smt == 'Kecimen').sum()\n",
    "num_ones = (y_train_smt == 'Besni').sum()\n",
    "print('Kecimen -',  num_zeros)\n",
    "print('Besni -',  num_ones)"
   ]
  },
  {
   "cell_type": "code",
   "execution_count": 10,
   "id": "3b2dd75b",
   "metadata": {
    "scrolled": true
   },
   "outputs": [
    {
     "name": "stdout",
     "output_type": "stream",
     "text": [
      "\n",
      "Estimator: LDA\n",
      "[[76 14]\n",
      " [12 78]]\n",
      "              precision    recall  f1-score   support\n",
      "\n",
      "       Besni       0.86      0.84      0.85        90\n",
      "     Kecimen       0.85      0.87      0.86        90\n",
      "\n",
      "    accuracy                           0.86       180\n",
      "   macro avg       0.86      0.86      0.86       180\n",
      "weighted avg       0.86      0.86      0.86       180\n",
      "\n",
      "\n",
      "Estimator: QDA\n",
      "[[73 17]\n",
      " [ 3 87]]\n",
      "              precision    recall  f1-score   support\n",
      "\n",
      "       Besni       0.96      0.81      0.88        90\n",
      "     Kecimen       0.84      0.97      0.90        90\n",
      "\n",
      "    accuracy                           0.89       180\n",
      "   macro avg       0.90      0.89      0.89       180\n",
      "weighted avg       0.90      0.89      0.89       180\n",
      "\n",
      "\n",
      "Estimator: LogReg\n",
      "[[76 14]\n",
      " [12 78]]\n",
      "              precision    recall  f1-score   support\n",
      "\n",
      "       Besni       0.86      0.84      0.85        90\n",
      "     Kecimen       0.85      0.87      0.86        90\n",
      "\n",
      "    accuracy                           0.86       180\n",
      "   macro avg       0.86      0.86      0.86       180\n",
      "weighted avg       0.86      0.86      0.86       180\n",
      "\n"
     ]
    }
   ],
   "source": [
    "#Base LDA, QDA and Logistical Regression Model\n",
    "from sklearn.metrics import classification_report, confusion_matrix  \n",
    "\n",
    "for name,method in [('LDA', LinearDiscriminantAnalysis()),('QDA',QuadraticDiscriminantAnalysis()),\n",
    "                   ('LogReg',LogisticRegression(solver='lbfgs',\n",
    "                                               class_weight='balanced',\n",
    "                                               random_state=100))]: \n",
    "    method.fit(x_train2,y_train_smt)\n",
    "    predict = method.predict(x_test2)\n",
    "    print('\\nEstimator: {}'.format(name)) \n",
    "    print(confusion_matrix(y_test,predict))  \n",
    "    print(classification_report(y_test,predict))         "
   ]
  },
  {
   "cell_type": "code",
   "execution_count": 11,
   "id": "fd9d0c09",
   "metadata": {},
   "outputs": [],
   "source": [
    "#Construct some pipelines \n",
    "from sklearn.pipeline import Pipeline\n",
    "from sklearn.preprocessing import StandardScaler\n",
    "\n",
    "#Create Pipeline\n",
    "\n",
    "pipeline =[]\n",
    "\n",
    "pipe_lda = Pipeline([('scl', StandardScaler()),\n",
    "                    ('clf', LinearDiscriminantAnalysis())])\n",
    "pipeline.insert(0,pipe_lda)\n",
    "\n",
    "pipe_qda = Pipeline([('scl', StandardScaler()),\n",
    "                    ('clf', QuadraticDiscriminantAnalysis())])\n",
    "pipeline.insert(1,pipe_qda)\n",
    "\n",
    "pipe_logreg = Pipeline([('scl', StandardScaler()),\n",
    "                    ('clf', LogisticRegression(solver='lbfgs',\n",
    "                                               class_weight='balanced',\n",
    "                                               random_state=100))])   \n",
    "pipeline.insert(2,pipe_logreg)\n",
    "    \n",
    "    \n",
    "# Set grid search params \n",
    "\n",
    "modelpara =[]\n",
    "\n",
    "param_gridlda = {'clf__solver':['svd','lsqr','eigen']}\n",
    "modelpara.insert(0,param_gridlda)\n",
    "\n",
    "param_gridqda = {}\n",
    "modelpara.insert(1,param_gridqda)\n",
    "\n",
    "param_gridlogreg = {'clf__C': [0.01, 0.1, 1, 10, 100], \n",
    "                    'clf__penalty': ['l2']}\n",
    "modelpara.insert(2,param_gridlogreg)"
   ]
  },
  {
   "cell_type": "code",
   "execution_count": 12,
   "id": "146d7292",
   "metadata": {},
   "outputs": [],
   "source": [
    "#Define Plot for learning curve\n",
    "\n",
    "from sklearn.model_selection import learning_curve\n",
    "\n",
    "def plot_learning_curves(model):\n",
    "    train_sizes, train_scores, test_scores = learning_curve(estimator=model,\n",
    "                                                            X=x_train_smt, \n",
    "                                                            y=y_train_smt,\n",
    "                                                            train_sizes= np.linspace(0.1, 1.0, 10),\n",
    "                                                            cv=10,\n",
    "                                                            scoring='recall_weighted',random_state=100)\n",
    "    train_mean = np.mean(train_scores, axis=1)\n",
    "    train_std = np.std(train_scores, axis=1)\n",
    "    test_mean = np.mean(test_scores, axis=1)\n",
    "    test_std = np.std(test_scores, axis=1)\n",
    "    \n",
    "    plt.plot(train_sizes, train_mean,color='blue', marker='o', \n",
    "             markersize=5, label='training recall')\n",
    "    plt.fill_between(train_sizes, train_mean + train_std, train_mean - train_std,\n",
    "                     alpha=0.15, color='blue')\n",
    "\n",
    "    plt.plot(train_sizes, test_mean, color='green', linestyle='--', marker='s', markersize=5,\n",
    "             label='validation recall')\n",
    "    plt.fill_between(train_sizes, test_mean + test_std, test_mean - test_std,\n",
    "                     alpha=0.15, color='green')\n",
    "    plt.grid(True)\n",
    "    plt.xlabel('Number of training samples')\n",
    "    plt.ylabel('Recall')\n",
    "    plt.legend(loc='best')\n",
    "    plt.ylim([0.5, 1.0])\n",
    "    plt.show()"
   ]
  },
  {
   "cell_type": "code",
   "execution_count": 13,
   "id": "2666969c",
   "metadata": {
    "scrolled": true
   },
   "outputs": [
    {
     "name": "stdout",
     "output_type": "stream",
     "text": [
      "LDA Learning Curve\n"
     ]
    },
    {
     "data": {
      "image/png": "[encoded data removed]",
      "text/plain": [
       "<Figure size 432x288 with 1 Axes>"
      ]
     },
     "metadata": {
      "needs_background": "light"
     },
     "output_type": "display_data"
    },
    {
     "name": "stdout",
     "output_type": "stream",
     "text": [
      "\n",
      " QDA Learning Curve\n"
     ]
    },
    {
     "data": {
      "image/png": "[encoded data removed]",
      "text/plain": [
       "<Figure size 432x288 with 1 Axes>"
      ]
     },
     "metadata": {
      "needs_background": "light"
     },
     "output_type": "display_data"
    },
    {
     "name": "stdout",
     "output_type": "stream",
     "text": [
      "\n",
      " Logistic Regression Learning Curve\n"
     ]
    },
    {
     "data": {
      "image/png": "[encoded data removed]",
      "text/plain": [
       "<Figure size 432x288 with 1 Axes>"
      ]
     },
     "metadata": {
      "needs_background": "light"
     },
     "output_type": "display_data"
    }
   ],
   "source": [
    "#Plot Learning Curve\n",
    "print('LDA Learning Curve')\n",
    "plot_learning_curves(pipe_lda)\n",
    "print('\\n QDA Learning Curve')\n",
    "plot_learning_curves(pipe_qda)\n",
    "print('\\n Logistic Regression Learning Curve')\n",
    "plot_learning_curves(pipe_logreg)"
   ]
  },
  {
   "cell_type": "code",
   "execution_count": 14,
   "id": "7e043287",
   "metadata": {},
   "outputs": [
    {
     "name": "stdout",
     "output_type": "stream",
     "text": [
      "Model Evaluation - Recall Score\n",
      "LDA 0.86 +/- 0.04\n",
      "QDA 0.84 +/- 0.03\n",
      "Log Reg 0.87 +/- 0.04\n",
      "\n",
      "\n"
     ]
    },
    {
     "data": {
      "image/png": "[encoded data removed]",
      "text/plain": [
       "<Figure size 720x360 with 1 Axes>"
      ]
     },
     "metadata": {
      "needs_background": "light"
     },
     "output_type": "display_data"
    }
   ],
   "source": [
    "#Model Analysis\n",
    "from sklearn.model_selection import RepeatedKFold\n",
    "from sklearn.model_selection import cross_val_score\n",
    "\n",
    "models=[]\n",
    "models.append(('LDA',pipe_lda))\n",
    "models.append(('QDA',pipe_qda))\n",
    "models.append(('Log Reg',pipe_logreg))\n",
    "\n",
    "#Model Evaluation\n",
    "results =[]\n",
    "names=[]\n",
    "scoring ='recall_weighted'\n",
    "print('Model Evaluation - Recall Score')\n",
    "for name, model in models:\n",
    "    rkf=RepeatedKFold(n_splits=10, n_repeats=5, random_state=100)\n",
    "    cv_results = cross_val_score(model,x_train_smt,y_train_smt,cv=rkf,scoring=scoring)\n",
    "    results.append(cv_results)\n",
    "    names.append(name)\n",
    "    print('{} {:.2f} +/- {:.2f}'.format(name,cv_results.mean(),cv_results.std()))\n",
    "print('\\n') \n",
    "\n",
    "fig = plt.figure(figsize=(10,5))\n",
    "fig.suptitle('Boxplot View')\n",
    "ax = fig.add_subplot(111)\n",
    "sns.boxplot(data=results)\n",
    "ax.set_xticklabels(names)\n",
    "plt.ylabel('Recall')\n",
    "plt.xlabel('Model')\n",
    "plt.show()"
   ]
  },
  {
   "cell_type": "code",
   "execution_count": 15,
   "id": "0e73e8f9",
   "metadata": {},
   "outputs": [],
   "source": [
    "#Define Gridsearch Function\n",
    "\n",
    "from sklearn.model_selection import GridSearchCV\n",
    "from sklearn.metrics import classification_report, confusion_matrix  \n",
    "\n",
    "def Gridsearch_cv(model, params):\n",
    "    \n",
    "    #Cross-validation Function\n",
    "    cv2=RepeatedKFold(n_splits=10, n_repeats=5, random_state=100)\n",
    "        \n",
    "    #GridSearch CV\n",
    "    gs_clf = GridSearchCV(model, params, cv=cv2,scoring='recall_weighted')\n",
    "    gs_clf = gs_clf.fit(x_train_smt, y_train_smt)\n",
    "    model = gs_clf.best_estimator_\n",
    "    \n",
    "    # Use best model and test data for final evaluation\n",
    "    y_pred = model.predict(x_test)\n",
    "\n",
    "    #Identify Best Parameters to Optimize the Model\n",
    "    bestpara=str(gs_clf.best_params_)\n",
    "    \n",
    "    #Output Validation Statistics\n",
    "    target_names=['Outcome Kecimen','Outcome Besni']\n",
    "    print('\\nOptimized Model')\n",
    "    print('\\nModel Name:',str(pipeline.named_steps['clf']))\n",
    "    print('\\nBest Parameters:',bestpara)\n",
    "    print('\\n', confusion_matrix(y_test,y_pred))  \n",
    "    print('\\n',classification_report(y_test,y_pred,target_names=target_names)) \n",
    "        \n",
    "    #Transform the variables into binary (0,1) - ROC Curve\n",
    "    from sklearn import preprocessing\n",
    "    Forecast1=pd.DataFrame(y_pred)\n",
    "    Outcome1=pd.DataFrame(y_test)\n",
    "    lb1 = preprocessing.LabelBinarizer()\n",
    "    OutcomeB1 =lb1.fit_transform(Outcome1)\n",
    "    ForecastB1 = lb1.fit_transform(Forecast1)\n",
    "    \n",
    "    #Setup the ROC Curve\n",
    "    from sklearn.metrics import roc_curve, auc\n",
    "    from sklearn import metrics\n",
    "    fpr, tpr, threshold = metrics.roc_curve(OutcomeB1, ForecastB1)\n",
    "    roc_auc = metrics.auc(fpr, tpr)\n",
    "    print('ROC Curve')\n",
    "    #Plot the ROC Curve\n",
    "    plt.title('Receiver Operating Characteristic')\n",
    "    plt.plot(fpr, tpr, 'b', label = 'AUC = %0.2f' % roc_auc)\n",
    "    plt.legend(loc = 'lower right')\n",
    "    plt.plot([0, 1], [0, 1],'r--')\n",
    "    plt.xlim([0, 1])\n",
    "    plt.ylim([0, 1])\n",
    "    plt.ylabel('True Positive Rate')\n",
    "    plt.xlabel('False Positive Rate')\n",
    "    plt.show()   "
   ]
  },
  {
   "cell_type": "code",
   "execution_count": 16,
   "id": "5a2469b4",
   "metadata": {},
   "outputs": [
    {
     "name": "stdout",
     "output_type": "stream",
     "text": [
      "\n",
      "Optimized Model\n",
      "\n",
      "Model Name: LinearDiscriminantAnalysis()\n",
      "\n",
      "Best Parameters: {'clf__solver': 'svd'}\n",
      "\n",
      " [[76 14]\n",
      " [12 78]]\n",
      "\n",
      "                  precision    recall  f1-score   support\n",
      "\n",
      "Outcome Kecimen       0.86      0.84      0.85        90\n",
      "  Outcome Besni       0.85      0.87      0.86        90\n",
      "\n",
      "       accuracy                           0.86       180\n",
      "      macro avg       0.86      0.86      0.86       180\n",
      "   weighted avg       0.86      0.86      0.86       180\n",
      "\n",
      "ROC Curve\n"
     ]
    },
    {
     "data": {
      "image/png": "[encoded data removed]",
      "text/plain": [
       "<Figure size 432x288 with 1 Axes>"
      ]
     },
     "metadata": {
      "needs_background": "light"
     },
     "output_type": "display_data"
    },
    {
     "name": "stdout",
     "output_type": "stream",
     "text": [
      "\n",
      "Optimized Model\n",
      "\n",
      "Model Name: QuadraticDiscriminantAnalysis()\n",
      "\n",
      "Best Parameters: {}\n",
      "\n",
      " [[73 17]\n",
      " [ 3 87]]\n",
      "\n",
      "                  precision    recall  f1-score   support\n",
      "\n",
      "Outcome Kecimen       0.96      0.81      0.88        90\n",
      "  Outcome Besni       0.84      0.97      0.90        90\n",
      "\n",
      "       accuracy                           0.89       180\n",
      "      macro avg       0.90      0.89      0.89       180\n",
      "   weighted avg       0.90      0.89      0.89       180\n",
      "\n",
      "ROC Curve\n"
     ]
    },
    {
     "data": {
      "image/png": "[encoded data removed]",
      "text/plain": [
       "<Figure size 432x288 with 1 Axes>"
      ]
     },
     "metadata": {
      "needs_background": "light"
     },
     "output_type": "display_data"
    },
    {
     "name": "stdout",
     "output_type": "stream",
     "text": [
      "\n",
      "Optimized Model\n",
      "\n",
      "Model Name: LogisticRegression(class_weight='balanced', random_state=100)\n",
      "\n",
      "Best Parameters: {'clf__C': 0.01, 'clf__penalty': 'l2'}\n",
      "\n",
      " [[73 17]\n",
      " [12 78]]\n",
      "\n",
      "                  precision    recall  f1-score   support\n",
      "\n",
      "Outcome Kecimen       0.86      0.81      0.83        90\n",
      "  Outcome Besni       0.82      0.87      0.84        90\n",
      "\n",
      "       accuracy                           0.84       180\n",
      "      macro avg       0.84      0.84      0.84       180\n",
      "   weighted avg       0.84      0.84      0.84       180\n",
      "\n",
      "ROC Curve\n"
     ]
    },
    {
     "data": {
      "image/png": "[encoded data removed]",
      "text/plain": [
       "<Figure size 432x288 with 1 Axes>"
      ]
     },
     "metadata": {
      "needs_background": "light"
     },
     "output_type": "display_data"
    }
   ],
   "source": [
    "#Run Models\n",
    "\n",
    "for pipeline, modelpara in zip(pipeline,modelpara):\n",
    "    Gridsearch_cv(pipeline,modelpara)"
   ]
  }
 ],
 "metadata": {
  "kernelspec": {
   "display_name": "Python 3 (ipykernel)",
   "language": "python",
   "name": "python3"
  },
  "language_info": {
   "codemirror_mode": {
    "name": "ipython",
    "version": 3
   },
   "file_extension": ".py",
   "mimetype": "text/x-python",
   "name": "python",
   "nbconvert_exporter": "python",
   "pygments_lexer": "ipython3",
   "version": "3.9.12"
  }
 },
 "nbformat": 4,
 "nbformat_minor": 5
}
